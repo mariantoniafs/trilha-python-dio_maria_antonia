{
  "nbformat": 4,
  "nbformat_minor": 0,
  "metadata": {
    "colab": {
      "provenance": [],
      "collapsed_sections": [
        "9dfI-o7gLRq9",
        "cWoqInB4TF1x"
      ],
      "include_colab_link": true
    },
    "kernelspec": {
      "name": "python3",
      "display_name": "Python 3"
    },
    "language_info": {
      "name": "python"
    }
  },
  "cells": [
    {
      "cell_type": "markdown",
      "metadata": {
        "id": "view-in-github",
        "colab_type": "text"
      },
      "source": [
        "<a href=\"https://colab.research.google.com/github/mariantoniafs/trilha-python-dio_maria_antonia/blob/main/Projeto_Maria_Antonia___SantanderDevWeek2023.ipynb\" target=\"_parent\"><img src=\"https://colab.research.google.com/assets/colab-badge.svg\" alt=\"Open In Colab\"/></a>"
      ]
    },
    {
      "cell_type": "markdown",
      "source": [
        "# Santander Dev Week 2023 (ETL com Python)"
      ],
      "metadata": {
        "id": "BPJQsTCULaC-"
      }
    },
    {
      "cell_type": "markdown",
      "source": [
        "**Contexto:** Você é um cientista de dados em uma empresa de Tecnologia 3D aplicada a Saúde e recebeu a tarefa de retornar uma mensagem para os médicos solicitantes de maneira mais personalizada. O objetivo é usar o poder da IA Generativa para criar mensagens de retorno personalizadas que serão entregues a cada cliente.\n",
        "\n",
        "**Condições do Problema:**\n",
        "\n",
        "1. Planilha simples, em formato CSV ('formulario_recon3D.csv'), com uma lista de IDs de cada solicitante:\n",
            a. [![Link do Arquivo](https://img.shields.io/badge/Acesse%20o%20Arquivo%20Base-23FF6FB5?style=for-the-badge)](https://github.com/mariantoniafs/trilha-python-dio_maria_antonia/blob/main/formulario_recon3D.txt)
        "2. Depois de obter os dados dos médicos, você vai usar a API do ChatGPT (OpenAI) para gerar uma mensagem de retorno personalizada para cada um. Essa mensagem deve informar que a solicitação foi computada com sucesso.\n",
        "3. Uma vez que a mensagem para cada médico esteja pronta, você vai enviar essa resposta de volta para a planilha de origem."
      ],
      "metadata": {
        "id": "k5fA5OrXt1a3"
      }
    },
    {
      "cell_type": "markdown",
      "source": [
        "## **E**xtract\n",
        "\n",
        "Extraia a lista de IDs de usuário a partir do arquivo CSV."
      ],
      "metadata": {
        "id": "9dfI-o7gLRq9"
      }
    },
    {
      "cell_type": "code",
      "execution_count": null,
      "metadata": {
        "id": "NYydpX_GLRCB"
      },
      "outputs": [],
      "source": [
        "# TODO Extrair os IDs do arquivo CSV.\n",
        "\n",
        "import pandas as pd\n",
        "\n",
        "df = pd.read_csv('formulario_recon3D.txt')\n",
        "user_ids = df['UserID'].tolist()\n",
        "\n",
        "print(user_ids)"
      ]
    },
    {
      "cell_type": "code",
      "source": [
        "import requests\n",
        "import json\n",
        "\n",
        "def get_user(name):\n",
        "  pd.read_csv('formulario_recon3D.txt', index_col ='nome')\n",
        "\n",
        "user_ids = df['UserID'].tolist()\n",
        "nome = df['Nome'].tolist()\n",
        "\n",
        "users = [nome for name in user_ids]\n",
        "print(users)"
      ],
      "metadata": {
        "id": "WkMh3p-7NBUF"
      },
      "execution_count": null,
      "outputs": []
    },
    {
      "cell_type": "markdown",
      "source": [
        "## **T**ransform\n",
        "\n",
        "Utilize a API do OpenAI GPT-3.5 para gerar uma mensagem de retorno personalizada para cada médico solicitante."
      ],
      "metadata": {
        "id": "cWoqInB4TF1x"
      }
    },
    {
      "cell_type": "code",
      "source": [
        "# @title\n",
        "!pip install openai"
      ],
      "metadata": {
        "id": "O--PCAObTQkK",
        "collapsed": true
      },
      "execution_count": null,
      "outputs": []
    },
    {
      "cell_type": "code",
      "source": [
        "# @title\n",
        "# Documentação Oficial da API OpenAI: https://platform.openai.com/docs/api-reference/introduction\n",
        "# Informações sobre o Período Gratuito: https://help.openai.com/en/articles/4936830\n",
        "\n",
        "# Para gerar uma API Key:\n",
        "# 1. Crie uma conta na OpenAI\n",
        "# 2. Acesse a seção \"API Keys\"\n",
        "# 3. Clique em \"Create API Key\"\n",
        "# Link direto: https://platform.openai.com/account/api-keys\n",
        "\n",
        "# Substitua o texto TODO por sua API Key da OpenAI, ela será salva como uma variável de ambiente."
      ],
      "metadata": {
        "id": "sUB1doiDTX3y"
      },
      "execution_count": null,
      "outputs": []
    },
    {
      "cell_type": "code",
      "source": [
        "#TODO Implementar a integração com o ChatGPT usando o modelo GPT-3.5-turbo\n",
        "\n",
        "from os import name\n",
        "\n",
        "import pandas as pd\n",
        "import requests\n",
        "import json\n",
        "\n",
        "\n",
        "df = pd.read_csv('formulario_recon3D.txt')\n",
        "\n",
        "# Converter dados do DataFrame para uma lista de dicionários (JSON)\n",
        "users = df.to_dict(orient='records')\n",
        "\n",
        "import openai\n",
        "\n",
        "openai_api_key = 'minha_API_key'\n",
        "\n",
        "openai.api_key = openai_api_key\n",
        "\n",
        "def generate_ai_return(user):\n",
        "  completion = openai.ChatCompletion.create(\n",
        "    model=\"gpt-3.5-turbo\",\n",
        "    messages=[\n",
        "      {\n",
        "          \"role\": \"system\",\n",
        "          \"content\": \"Você é um especialista em marketing médico.\"\n",
        "      },\n",
        "      {\n",
        "          \"role\": \"user\",\n",
        "          \"content\": f\"Crie uma mensagem para {user['Nome']} de retorno para a solicitação de reconstrução 3D do usuário, sempre iniciando a mensagem com o Dr/Dra + nome do usuário (máximo de 100 caracteres)\"\n",
        "      }\n",
        "    ]\n",
        "  )\n",
        "  return completion.choices[0].message.content.strip('\\\"')\n",
        "\n",
        "for user in users:\n",
        "  chat_mesage = generate_ai_return(user)\n",
        "  print(chat_mesage)\n",
        "\n",
        "  # Adiciona um atraso de 20 segundos entre as solicitações\n",
        "  import time\n",
        "  time.sleep(20)"
      ],
      "metadata": {
        "id": "n1w78kNxTrZY"
      },
      "execution_count": null,
      "outputs": []
    },
    {
      "cell_type": "markdown",
      "source": [
        "## **L**oad\n",
        "\n",
        "Atualize a lista de \"retorno\" de cada usuário na API com a nova mensagem gerada."
      ],
      "metadata": {
        "id": "kNuP0SDUZMBY"
      }
    },
    {
      "cell_type": "code",
      "source": [
        "import pandas as pd\n",
        "\n",
        "# Ler o arquivo original\n",
        "df = pd.read_csv('formulario_recon3D.txt')\n",
        "\n",
        "# Converter dados do DataFrame para uma lista de dicionários\n",
        "users = df.to_dict(orient='records')\n",
        "\n",
        "# Atualiza a coluna 'retorno' no DataFrame com as mensagens geradas\n",
        "for user in users:\n",
        "  user['retorno'] = generate_ai_return(user)\n",
        "  import time\n",
        "  time.sleep(20)\n",
        "\n",
        "# Novo DataFrame com as atualizações\n",
        "df_updated = pd.DataFrame(users)\n",
        "\n",
        "# Salva o DataFrame atualizado no arquivo\n",
        "df_updated = df_updated.to_csv('formulario_recon3D_atualizado.txt', index=False)"
      ],
      "metadata": {
        "id": "YefWfYBoZMN2"
      },
      "execution_count": 48,
      "outputs": []
    }
  ]
 "cell_type": "markdown",
      "source": [
        "Para visualizar o arquivo atualizado após rodar o código [Clique Aqui](https://img.shields.io/badge/Acesse%20o%20Clique%20Aqui-23FFF66F?style=for-the-badge)](https://github.com/mariantoniafs/trilha-python-dio_maria_antonia/blob/main/formulario_recon3D_atualizado.txt)
      ]
}
